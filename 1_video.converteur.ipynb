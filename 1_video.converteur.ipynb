{
 "cells": [
  {
   "cell_type": "code",
   "execution_count": 1,
   "metadata": {},
   "outputs": [],
   "source": [
    "import os\n",
    "import supervision as sv\n",
    "import supervision.utils.image as sv_image"
   ]
  },
  {
   "cell_type": "code",
   "execution_count": 2,
   "metadata": {},
   "outputs": [
    {
     "data": {
      "text/plain": [
       "'DataSet/image'"
      ]
     },
     "execution_count": 2,
     "metadata": {},
     "output_type": "execute_result"
    }
   ],
   "source": [
    "#parametre de la video\n",
    "OUTPUT_FOLDER = \"DataSet/image\"\n",
    "STEP_GET_IMAGE = 4\n"
   ]
  },
  {
   "cell_type": "code",
   "execution_count": 53,
   "metadata": {},
   "outputs": [
    {
     "name": "stdout",
     "output_type": "stream",
     "text": [
      "Extraction terminée pour la vidéo Troupeau_1.mp4.\n",
      "Extraction terminée pour la vidéo Troupeau_2_focus_1.mp4.\n",
      "Extraction terminée pour la vidéo Troupeau_5_large.mp4.\n",
      "Extraction terminée pour la vidéo Troupeau_3.mp4.\n",
      "Extraction terminée pour la vidéo Troupeau_7_focus_2.mp4.\n",
      "Extraction terminée pour la vidéo Troupeau_6.mp4.\n",
      "Extraction terminée pour la vidéo Troupeau_4_large_2.mp4.\n"
     ]
    }
   ],
   "source": [
    "# Chemin vers les vidéos et le dossier où stocker les images\n",
    "videos_path = \"DataSet/Video\"\n",
    "output_folder = \"DataSet/image\"\n",
    "videos_patch = os.listdir(videos_path)\n",
    "last_image_index = len(os.listdir(\"DataSet/image\")[-1])\n",
    "# Parcourir toutes les vidéos dans le dossier\n",
    "n = last_image_index+1\n",
    "for video_patch in videos_patch:\n",
    "    if video_patch.endswith(('.mov', '.mp4')):\n",
    "        #path de la video\n",
    "        video_full_path = os.path.join(videos_path, video_patch)\n",
    "\n",
    "        # Crée les dossier apres le dernier index \n",
    "        Export_full_patch = os.path.join(output_folder, str(n))\n",
    "        os.makedirs(Export_full_patch, exist_ok=True)\n",
    "        n +=  + 1\n",
    "\n",
    "\n",
    "        # sauvegarde les images\n",
    "        with sv.ImageSink(target_dir_path=Export_full_patch,overwrite=True) as sink:\n",
    "            for image in sv.get_video_frames_generator(source_path=video_full_path, stride=4):\n",
    "\n",
    "                sink.save_image(image=image)\n",
    "        print(f\"Extraction terminée pour la vidéo {video_patch}.\")\n",
    "\n",
    "\n",
    "    # f'image_{n:04d}.jpg"
   ]
  },
  {
   "cell_type": "code",
   "execution_count": null,
   "metadata": {},
   "outputs": [],
   "source": []
  }
 ],
 "metadata": {
  "kernelspec": {
   "display_name": "obione-1",
   "language": "python",
   "name": "python3"
  },
  "language_info": {
   "codemirror_mode": {
    "name": "ipython",
    "version": 3
   },
   "file_extension": ".py",
   "mimetype": "text/x-python",
   "name": "python",
   "nbconvert_exporter": "python",
   "pygments_lexer": "ipython3",
   "version": "3.12.7"
  }
 },
 "nbformat": 4,
 "nbformat_minor": 2
}
