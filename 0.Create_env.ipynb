{
 "cells": [
  {
   "cell_type": "code",
   "execution_count": 1,
   "metadata": {},
   "outputs": [
    {
     "name": "stdout",
     "output_type": "stream",
     "text": [
      "Requirement already satisfied: filelock==3.16.1 in /Users/vigreu8/miniconda3/envs/obione-1/lib/python3.12/site-packages (from -r requirements.txt (line 1)) (3.16.1)\n",
      "Collecting fsspec==2024.9.0 (from -r requirements.txt (line 2))\n",
      "  Using cached fsspec-2024.9.0-py3-none-any.whl.metadata (11 kB)\n",
      "Requirement already satisfied: Jinja2==3.1.4 in /Users/vigreu8/miniconda3/envs/obione-1/lib/python3.12/site-packages (from -r requirements.txt (line 3)) (3.1.4)\n",
      "Collecting joblib==1.4.2 (from -r requirements.txt (line 4))\n",
      "  Using cached joblib-1.4.2-py3-none-any.whl.metadata (5.4 kB)\n",
      "Collecting MarkupSafe==3.0.1 (from -r requirements.txt (line 5))\n",
      "  Using cached MarkupSafe-3.0.1-cp312-cp312-macosx_11_0_arm64.whl.metadata (4.0 kB)\n",
      "Requirement already satisfied: mpmath==1.3.0 in /Users/vigreu8/miniconda3/envs/obione-1/lib/python3.12/site-packages (from -r requirements.txt (line 6)) (1.3.0)\n",
      "Collecting networkx==3.3 (from -r requirements.txt (line 7))\n",
      "  Using cached networkx-3.3-py3-none-any.whl.metadata (5.1 kB)\n",
      "Requirement already satisfied: numpy==2.1.2 in /Users/vigreu8/miniconda3/envs/obione-1/lib/python3.12/site-packages (from -r requirements.txt (line 8)) (2.1.2)\n",
      "Requirement already satisfied: opencv-python==4.10.0.84 in /Users/vigreu8/miniconda3/envs/obione-1/lib/python3.12/site-packages (from -r requirements.txt (line 9)) (4.10.0.84)\n",
      "Requirement already satisfied: pandas==2.2.3 in /Users/vigreu8/miniconda3/envs/obione-1/lib/python3.12/site-packages (from -r requirements.txt (line 10)) (2.2.3)\n",
      "Collecting pillow==10.4.0 (from -r requirements.txt (line 11))\n",
      "  Using cached pillow-10.4.0-cp312-cp312-macosx_11_0_arm64.whl.metadata (9.2 kB)\n",
      "Collecting python-dateutil==2.9.0.post0 (from -r requirements.txt (line 12))\n",
      "  Using cached python_dateutil-2.9.0.post0-py2.py3-none-any.whl.metadata (8.4 kB)\n",
      "Requirement already satisfied: pytz==2024.2 in /Users/vigreu8/miniconda3/envs/obione-1/lib/python3.12/site-packages (from -r requirements.txt (line 13)) (2024.2)\n",
      "Collecting scikit-learn==1.5.2 (from -r requirements.txt (line 14))\n",
      "  Using cached scikit_learn-1.5.2-cp312-cp312-macosx_12_0_arm64.whl.metadata (13 kB)\n",
      "Requirement already satisfied: scipy==1.14.1 in /Users/vigreu8/miniconda3/envs/obione-1/lib/python3.12/site-packages (from -r requirements.txt (line 15)) (1.14.1)\n",
      "Requirement already satisfied: setuptools==75.1.0 in /Users/vigreu8/miniconda3/envs/obione-1/lib/python3.12/site-packages (from -r requirements.txt (line 16)) (75.1.0)\n",
      "Requirement already satisfied: six==1.16.0 in /Users/vigreu8/miniconda3/envs/obione-1/lib/python3.12/site-packages (from -r requirements.txt (line 17)) (1.16.0)\n",
      "Collecting sympy==1.13.3 (from -r requirements.txt (line 18))\n",
      "  Using cached sympy-1.13.3-py3-none-any.whl.metadata (12 kB)\n",
      "Collecting threadpoolctl==3.5.0 (from -r requirements.txt (line 19))\n",
      "  Using cached threadpoolctl-3.5.0-py3-none-any.whl.metadata (13 kB)\n",
      "Collecting torch==2.4.1 (from -r requirements.txt (line 20))\n",
      "  Using cached torch-2.4.1-cp312-none-macosx_11_0_arm64.whl.metadata (26 kB)\n",
      "Collecting torchvision==0.19.1 (from -r requirements.txt (line 21))\n",
      "  Using cached torchvision-0.19.1-cp312-cp312-macosx_11_0_arm64.whl.metadata (6.0 kB)\n",
      "Requirement already satisfied: typing_extensions==4.12.2 in /Users/vigreu8/miniconda3/envs/obione-1/lib/python3.12/site-packages (from -r requirements.txt (line 22)) (4.12.2)\n",
      "Requirement already satisfied: tzdata==2024.2 in /Users/vigreu8/miniconda3/envs/obione-1/lib/python3.12/site-packages (from -r requirements.txt (line 23)) (2024.2)\n",
      "Using cached fsspec-2024.9.0-py3-none-any.whl (179 kB)\n",
      "Using cached joblib-1.4.2-py3-none-any.whl (301 kB)\n",
      "Using cached MarkupSafe-3.0.1-cp312-cp312-macosx_11_0_arm64.whl (12 kB)\n",
      "Using cached networkx-3.3-py3-none-any.whl (1.7 MB)\n",
      "Using cached pillow-10.4.0-cp312-cp312-macosx_11_0_arm64.whl (3.4 MB)\n",
      "Using cached python_dateutil-2.9.0.post0-py2.py3-none-any.whl (229 kB)\n",
      "Using cached scikit_learn-1.5.2-cp312-cp312-macosx_12_0_arm64.whl (11.0 MB)\n",
      "Using cached sympy-1.13.3-py3-none-any.whl (6.2 MB)\n",
      "Using cached threadpoolctl-3.5.0-py3-none-any.whl (18 kB)\n",
      "Using cached torch-2.4.1-cp312-none-macosx_11_0_arm64.whl (62.1 MB)\n",
      "Using cached torchvision-0.19.1-cp312-cp312-macosx_11_0_arm64.whl (1.7 MB)\n",
      "Installing collected packages: threadpoolctl, sympy, python-dateutil, pillow, networkx, MarkupSafe, joblib, fsspec, scikit-learn, torch, torchvision\n",
      "  Attempting uninstall: sympy\n",
      "    Found existing installation: sympy 1.13.1\n",
      "    Uninstalling sympy-1.13.1:\n",
      "      Successfully uninstalled sympy-1.13.1\n",
      "  Attempting uninstall: python-dateutil\n",
      "    Found existing installation: python-dateutil 2.9.0\n",
      "    Uninstalling python-dateutil-2.9.0:\n",
      "      Successfully uninstalled python-dateutil-2.9.0\n",
      "  Attempting uninstall: pillow\n",
      "    Found existing installation: pillow 11.0.0\n",
      "    Uninstalling pillow-11.0.0:\n",
      "      Successfully uninstalled pillow-11.0.0\n",
      "  Attempting uninstall: networkx\n",
      "    Found existing installation: networkx 3.4.2\n",
      "    Uninstalling networkx-3.4.2:\n",
      "      Successfully uninstalled networkx-3.4.2\n",
      "  Attempting uninstall: MarkupSafe\n",
      "    Found existing installation: MarkupSafe 3.0.2\n",
      "    Uninstalling MarkupSafe-3.0.2:\n",
      "      Successfully uninstalled MarkupSafe-3.0.2\n",
      "  Attempting uninstall: fsspec\n",
      "    Found existing installation: fsspec 2024.10.0\n",
      "    Uninstalling fsspec-2024.10.0:\n",
      "      Successfully uninstalled fsspec-2024.10.0\n",
      "  Attempting uninstall: torch\n",
      "    Found existing installation: torch 2.5.0\n",
      "    Uninstalling torch-2.5.0:\n",
      "      Successfully uninstalled torch-2.5.0\n",
      "  Attempting uninstall: torchvision\n",
      "    Found existing installation: torchvision 0.20.0\n",
      "    Uninstalling torchvision-0.20.0:\n",
      "      Successfully uninstalled torchvision-0.20.0\n",
      "Successfully installed MarkupSafe-3.0.1 fsspec-2024.9.0 joblib-1.4.2 networkx-3.3 pillow-10.4.0 python-dateutil-2.9.0.post0 scikit-learn-1.5.2 sympy-1.13.3 threadpoolctl-3.5.0 torch-2.4.1 torchvision-0.19.1\n"
     ]
    }
   ],
   "source": [
    "#installer python 3.12.2\n",
    "# !python -m venv env\n",
    "# !pip install -r requirements.txt\n",
    "# !source env/bin/activate\n"
   ]
  },
  {
   "cell_type": "code",
   "execution_count": 2,
   "metadata": {},
   "outputs": [
    {
     "name": "stdout",
     "output_type": "stream",
     "text": [
      "zsh:cd:1: too many arguments\n",
      "zsh:cd:1: too many arguments\n"
     ]
    }
   ],
   "source": [
    "\n",
    "!cd test mkdir DataSet\n",
    "!cd DataSet mkdir export image video\n"
   ]
  }
 ],
 "metadata": {
  "kernelspec": {
   "display_name": "obione-1",
   "language": "python",
   "name": "python3"
  },
  "language_info": {
   "codemirror_mode": {
    "name": "ipython",
    "version": 3
   },
   "file_extension": ".py",
   "mimetype": "text/x-python",
   "name": "python",
   "nbconvert_exporter": "python",
   "pygments_lexer": "ipython3",
   "version": "3.12.7"
  }
 },
 "nbformat": 4,
 "nbformat_minor": 2
}
